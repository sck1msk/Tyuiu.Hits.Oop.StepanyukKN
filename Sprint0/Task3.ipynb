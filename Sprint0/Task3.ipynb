{
 "cells": [
  {
   "cell_type": "markdown",
   "metadata": {},
   "source": [
    "<h1 style=\"color:DodgerBlue\">Индивидальный проект</h1>"
   ]
  },
  {
   "cell_type": "markdown",
   "metadata": {},
   "source": [
    "<h2 style=\"color:DodgerBlue\">Название проекта:</h2>\n",
    "\n",
    "----\n",
    "\n",
    "### Вариант задания №11\n"
   ]
  },
  {
   "cell_type": "markdown",
   "metadata": {},
   "source": [
    "<h2 style=\"color:DodgerBlue\">Описание проекта:</h2>\n",
    "\n",
    "----\n",
    "\n",
    "Описание задачи:\n",
    "Создать базовый класс Customer в C#, который будет представлять информацию о\n",
    "клиентах или покупателях. На основе этого класса разработать 2-3 производных\n",
    "класса, демонстрирующих принципы наследования и полиморфизма. В каждом из\n",
    "классов должны быть реализованы новые атрибуты и методы, а также\n",
    "переопределены некоторые методы базового класса для демонстрации\n",
    "полиморфизма.\n",
    "Требования к базовому классу Customer:\n",
    "• Атрибуты: Идентификатор клиента (CustomerId), Имя (Name), Электронная\n",
    "почта (Email).\n",
    "• Методы:\n",
    "o\n",
    "o GetFullName(): метод для получения полного имени клиента.\n",
    "o UpdateEmail(string newEmail): метод для обновления электронной\n",
    "почты клиента.\n",
    "o ViewProfile(): метод для просмотра профиля клиента.\n",
    "Требования к производным классам:\n",
    "1. VIPКлиент (VipCustomer): Должен содержать дополнительные атрибуты,\n",
    "такие как Баланс лояльности (LoyaltyPoints). Метод ViewProfile() должен быть\n",
    "переопределен для отображения дополнительной информации о VIPклиенте.\n",
    "2. ОбычныйКлиент (RegularCustomer): Должен содержать дополнительные\n",
    "атрибуты, такие как Дата регистрации (RegistrationDate).\n",
    "Метод UpdateEmail() должен быть переопределен для добавления\n",
    "информации о дате последнего обновления электронной почты.\n",
    "3. ГрупповойКлиент (GroupCustomer) (если требуется третий класс): Должен\n",
    "содержать дополнительные атрибуты, такие как Название группы\n",
    "(GroupName). Метод GetFullName() должен быть переопределен для\n",
    "отображения названия группы вместо имени клиента.\n"
   ]
  },
  {
   "cell_type": "markdown",
   "metadata": {},
   "source": [
    "<h2 style=\"color:DodgerBlue\">Реализация:</h2>\n",
    "\n",
    "----"
   ]
  },
  {
   "cell_type": "code",
   "execution_count": 2,
   "metadata": {
    "dotnet_interactive": {
     "language": "csharp"
    },
    "polyglot_notebook": {
     "kernelName": "csharp"
    }
   },
   "outputs": [],
   "source": [
    "using System;\n",
    "\n",
    "namespace CustomerApp\n",
    "{\n",
    "    // Базовый класс Customer\n",
    "    public class Customer\n",
    "    {\n",
    "        public int CustomerId { get; set; }\n",
    "        public string Name { get; set; }\n",
    "        public string Email { get; set; }\n",
    "\n",
    "        public Customer(int customerId, string name, string email)\n",
    "        {\n",
    "            CustomerId = customerId;\n",
    "            Name = name;\n",
    "            Email = email;\n",
    "        }\n",
    "\n",
    "        public virtual string GetFullName()\n",
    "        {\n",
    "            return Name;\n",
    "        }\n",
    "\n",
    "        public virtual void UpdateEmail(string newEmail)\n",
    "        {\n",
    "            Email = newEmail;\n",
    "            Console.WriteLine(\"Электронная почта обновлена.\");\n",
    "        }\n",
    "\n",
    "        public virtual void ViewProfile()\n",
    "        {\n",
    "            Console.WriteLine($\"ID: {CustomerId}\\nИмя: {Name}\\nEmail: {Email}\");\n",
    "        }\n",
    "    }\n",
    "\n",
    "    // Производный класс VIP-клиент\n",
    "    public class VipCustomer : Customer\n",
    "    {\n",
    "        public int LoyaltyPoints { get; set; }\n",
    "\n",
    "        public VipCustomer(int customerId, string name, string email, int loyaltyPoints)\n",
    "            : base(customerId, name, email)\n",
    "        {\n",
    "            LoyaltyPoints = loyaltyPoints;\n",
    "        }\n",
    "\n",
    "        public override void ViewProfile()\n",
    "        {\n",
    "            base.ViewProfile();\n",
    "            Console.WriteLine($\"Баланс лояльности: {LoyaltyPoints}\");\n",
    "        }\n",
    "    }\n",
    "\n",
    "    // Производный класс Обычный клиент\n",
    "    public class RegularCustomer : Customer\n",
    "    {\n",
    "        public DateTime RegistrationDate { get; set; }\n",
    "        private DateTime LastEmailUpdateDate { get; set; }\n",
    "\n",
    "        public RegularCustomer(int customerId, string name, string email, DateTime registrationDate)\n",
    "            : base(customerId, name, email)\n",
    "        {\n",
    "            RegistrationDate = registrationDate;\n",
    "        }\n",
    "\n",
    "        public override void UpdateEmail(string newEmail)\n",
    "        {\n",
    "            base.UpdateEmail(newEmail);\n",
    "            LastEmailUpdateDate = DateTime.Now;\n",
    "            Console.WriteLine($\"Дата последнего обновления электронной почты: {LastEmailUpdateDate}\");\n",
    "        }\n",
    "    }\n",
    "\n",
    "    // Производный класс Групповой клиент\n",
    "    public class GroupCustomer : Customer\n",
    "    {\n",
    "        public string GroupName { get; set; }\n",
    "\n",
    "        public GroupCustomer(int customerId, string groupName, string email)\n",
    "            : base(customerId, groupName, email)\n",
    "        {\n",
    "            GroupName = groupName;\n",
    "        }\n",
    "\n",
    "        public override string GetFullName()\n",
    "        {\n",
    "            return $\"Группа: {GroupName}\";\n",
    "        }\n",
    "    }\n",
    "\n",
    "    class Program\n",
    "    {\n",
    "        static void Main(string[] args)\n",
    "        {\n",
    "            // Создание и использование объектов разных классов\n",
    "            Customer vip = new VipCustomer(1, \"Анна Иванова\", \"anna@mail.com\", 1200);\n",
    "            vip.ViewProfile();\n",
    "            Console.WriteLine();\n",
    "\n",
    "            Customer regular = new RegularCustomer(2, \"Иван Петров\", \"ivan@mail.com\", DateTime.Now.AddYears(-1));\n",
    "            regular.ViewProfile();\n",
    "            regular.UpdateEmail(\"ivan.new@mail.com\");\n",
    "            Console.WriteLine();\n",
    "\n",
    "            Customer group = new GroupCustomer(3, \"Разработчики\", \"devgroup@mail.com\");\n",
    "            Console.WriteLine(group.GetFullName());\n",
    "            group.ViewProfile();\n",
    "        }\n",
    "    }\n",
    "}\n"
   ]
  }
 ],
 "metadata": {
  "kernelspec": {
   "display_name": ".NET (C#)",
   "language": "C#",
   "name": ".net-csharp"
  },
  "polyglot_notebook": {
   "kernelInfo": {
    "defaultKernelName": "csharp",
    "items": [
     {
      "aliases": [],
      "languageName": "csharp",
      "name": "csharp"
     }
    ]
   }
  }
 },
 "nbformat": 4,
 "nbformat_minor": 2
}
